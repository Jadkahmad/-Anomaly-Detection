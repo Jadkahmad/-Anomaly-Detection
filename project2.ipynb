{
 "cells": [
  {
   "cell_type": "code",
   "execution_count": 61,
   "id": "047dce1d",
   "metadata": {},
   "outputs": [],
   "source": [
    "#libraries imports\n",
    "import numpy as np \n",
    "import pandas as pd \n",
    "import matplotlib.pyplot as plt \n",
    "import seaborn as sns\n",
    "\n",
    "#scikit-learn imports\n",
    "from sklearn.model_selection import train_test_split , cross_val_score\n",
    "from sklearn.preprocessing import StandardScaler \n",
    "from sklearn.linear_model import LogisticRegression\n",
    "from sklearn.ensemble import RandomForestClassifier,IsolationForest\n",
    "from sklearn.metrics import (\n",
    "    classification_report , confusion_matrix , precision_recall_curve, average_precision_score , \n",
    "    f1_score , precision_score , recall_score, roc_auc_score\n",
    ")\n"
   ]
  },
  {
   "cell_type": "code",
   "execution_count": 62,
   "id": "212b90e4",
   "metadata": {},
   "outputs": [
    {
     "data": {
      "text/plain": [
       "(284807, 31)"
      ]
     },
     "execution_count": 62,
     "metadata": {},
     "output_type": "execute_result"
    }
   ],
   "source": [
    "# starting by loading dataset\n",
    "df = pd.read_csv('creditcard.csv')\n",
    "df.shape"
   ]
  },
  {
   "cell_type": "code",
   "execution_count": 63,
   "id": "dab698f7",
   "metadata": {},
   "outputs": [
    {
     "data": {
      "text/plain": [
       "<bound method DataFrame.info of             Time         V1         V2        V3        V4        V5  \\\n",
       "0            0.0  -1.359807  -0.072781  2.536347  1.378155 -0.338321   \n",
       "1            0.0   1.191857   0.266151  0.166480  0.448154  0.060018   \n",
       "2            1.0  -1.358354  -1.340163  1.773209  0.379780 -0.503198   \n",
       "3            1.0  -0.966272  -0.185226  1.792993 -0.863291 -0.010309   \n",
       "4            2.0  -1.158233   0.877737  1.548718  0.403034 -0.407193   \n",
       "...          ...        ...        ...       ...       ...       ...   \n",
       "284802  172786.0 -11.881118  10.071785 -9.834783 -2.066656 -5.364473   \n",
       "284803  172787.0  -0.732789  -0.055080  2.035030 -0.738589  0.868229   \n",
       "284804  172788.0   1.919565  -0.301254 -3.249640 -0.557828  2.630515   \n",
       "284805  172788.0  -0.240440   0.530483  0.702510  0.689799 -0.377961   \n",
       "284806  172792.0  -0.533413  -0.189733  0.703337 -0.506271 -0.012546   \n",
       "\n",
       "              V6        V7        V8        V9  ...       V21       V22  \\\n",
       "0       0.462388  0.239599  0.098698  0.363787  ... -0.018307  0.277838   \n",
       "1      -0.082361 -0.078803  0.085102 -0.255425  ... -0.225775 -0.638672   \n",
       "2       1.800499  0.791461  0.247676 -1.514654  ...  0.247998  0.771679   \n",
       "3       1.247203  0.237609  0.377436 -1.387024  ... -0.108300  0.005274   \n",
       "4       0.095921  0.592941 -0.270533  0.817739  ... -0.009431  0.798278   \n",
       "...          ...       ...       ...       ...  ...       ...       ...   \n",
       "284802 -2.606837 -4.918215  7.305334  1.914428  ...  0.213454  0.111864   \n",
       "284803  1.058415  0.024330  0.294869  0.584800  ...  0.214205  0.924384   \n",
       "284804  3.031260 -0.296827  0.708417  0.432454  ...  0.232045  0.578229   \n",
       "284805  0.623708 -0.686180  0.679145  0.392087  ...  0.265245  0.800049   \n",
       "284806 -0.649617  1.577006 -0.414650  0.486180  ...  0.261057  0.643078   \n",
       "\n",
       "             V23       V24       V25       V26       V27       V28  Amount  \\\n",
       "0      -0.110474  0.066928  0.128539 -0.189115  0.133558 -0.021053  149.62   \n",
       "1       0.101288 -0.339846  0.167170  0.125895 -0.008983  0.014724    2.69   \n",
       "2       0.909412 -0.689281 -0.327642 -0.139097 -0.055353 -0.059752  378.66   \n",
       "3      -0.190321 -1.175575  0.647376 -0.221929  0.062723  0.061458  123.50   \n",
       "4      -0.137458  0.141267 -0.206010  0.502292  0.219422  0.215153   69.99   \n",
       "...          ...       ...       ...       ...       ...       ...     ...   \n",
       "284802  1.014480 -0.509348  1.436807  0.250034  0.943651  0.823731    0.77   \n",
       "284803  0.012463 -1.016226 -0.606624 -0.395255  0.068472 -0.053527   24.79   \n",
       "284804 -0.037501  0.640134  0.265745 -0.087371  0.004455 -0.026561   67.88   \n",
       "284805 -0.163298  0.123205 -0.569159  0.546668  0.108821  0.104533   10.00   \n",
       "284806  0.376777  0.008797 -0.473649 -0.818267 -0.002415  0.013649  217.00   \n",
       "\n",
       "        Class  \n",
       "0           0  \n",
       "1           0  \n",
       "2           0  \n",
       "3           0  \n",
       "4           0  \n",
       "...       ...  \n",
       "284802      0  \n",
       "284803      0  \n",
       "284804      0  \n",
       "284805      0  \n",
       "284806      0  \n",
       "\n",
       "[284807 rows x 31 columns]>"
      ]
     },
     "execution_count": 63,
     "metadata": {},
     "output_type": "execute_result"
    }
   ],
   "source": [
    "df.info"
   ]
  },
  {
   "cell_type": "code",
   "execution_count": 64,
   "id": "91b40fe5",
   "metadata": {},
   "outputs": [
    {
     "name": "stdout",
     "output_type": "stream",
     "text": [
      "Fraud Transactions: 492 (0.173%)\n",
      "Normal Transactions: 284,315 (99.827%)\n"
     ]
    }
   ],
   "source": [
    "print(f\"Fraud Transactions: {df['Class'].sum():,} ({df['Class'].mean()*100:.3f}%)\")\n",
    "print(f\"Normal Transactions: {(1-df['Class']).sum():,} ({(1-df['Class']).mean()*100:.3f}%)\")"
   ]
  },
  {
   "cell_type": "code",
   "execution_count": 65,
   "id": "2dd58a22",
   "metadata": {},
   "outputs": [],
   "source": [
    "#Feature Engineering\n",
    "df['Amount_log']= np.log(df['Amount']+1)\n",
    "df['Hour'] = (df['Time'] % (24*3600)) // 3600\n",
    "\n",
    "#Create Time Based Features \n",
    "df['Time_sin'] = np.sin(2 * np.pi * df['Hour']/24)\n",
    "df['Time_cos'] = np.cos(2 * np.pi * df['Hour']/24)"
   ]
  },
  {
   "cell_type": "code",
   "execution_count": 66,
   "id": "6d9f929d",
   "metadata": {},
   "outputs": [],
   "source": [
    "#exclude time and class \n",
    "features_cols = []\n",
    "for col in df.columns:\n",
    "    if col not in ['Time' , 'Class']:\n",
    "        features_cols.append(col)\n",
    "X=df[features_cols]\n",
    "y=df['Class']"
   ]
  },
  {
   "cell_type": "code",
   "execution_count": 67,
   "id": "4016adcc",
   "metadata": {},
   "outputs": [
    {
     "data": {
      "text/plain": [
       "Index(['V1', 'V2', 'V3', 'V4', 'V5', 'V6', 'V7', 'V8', 'V9', 'V10', 'V11',\n",
       "       'V12', 'V13', 'V14', 'V15', 'V16', 'V17', 'V18', 'V19', 'V20', 'V21',\n",
       "       'V22', 'V23', 'V24', 'V25', 'V26', 'V27', 'V28', 'Amount', 'Amount_log',\n",
       "       'Hour', 'Time_sin', 'Time_cos'],\n",
       "      dtype='object')"
      ]
     },
     "execution_count": 67,
     "metadata": {},
     "output_type": "execute_result"
    }
   ],
   "source": [
    "X.shape\n",
    "X.columns\n",
    "\n"
   ]
  },
  {
   "cell_type": "code",
   "execution_count": 68,
   "id": "d3033241",
   "metadata": {},
   "outputs": [
    {
     "name": "stdout",
     "output_type": "stream",
     "text": [
      "Train Set: 227,845 samples\n",
      "fRAUD: 394 (0.173%)\n",
      "Test Set: 56,962 samples \n",
      "fRAUD: 98 (0.172%)\n"
     ]
    }
   ],
   "source": [
    "X_train,X_test,y_train,y_test = train_test_split(X, y , test_size=0.2 , random_state=42, stratify=y)\n",
    "print(f\"Train Set: {len(X_train):,} samples\")\n",
    "print(f\"fRAUD: {y_train.sum():,} ({y_train.mean()*100:.3f}%)\")\n",
    "print(f\"Test Set: {len(X_test):,} samples \")\n",
    "print(f\"fRAUD: {y_test.sum():,} ({y_test.mean()*100:.3f}%)\")"
   ]
  },
  {
   "cell_type": "code",
   "execution_count": 69,
   "id": "fee27ddf",
   "metadata": {},
   "outputs": [],
   "source": [
    "#Feature Scaling\n",
    "scaler = StandardScaler()\n",
    "\n",
    "X_train_scaled = scaler.fit_transform(X_train)\n",
    "X_test_scaled = scaler.transform(X_test)\n",
    "\n",
    "X_train_scaled = pd.DataFrame(X_train_scaled, columns=features_cols, index=X_train.index)\n",
    "X_test_scaled = pd.DataFrame(X_test_scaled, columns=features_cols, index=X_test.index)"
   ]
  },
  {
   "cell_type": "code",
   "execution_count": 70,
   "id": "e1b14395",
   "metadata": {},
   "outputs": [],
   "source": [
    "X_train_normal = X_train_scaled[y_train == 0]\n",
    "iso_forest = IsolationForest(\n",
    "    contamination=0.002,\n",
    "    random_state=42,\n",
    "    n_jobs=-1 \n",
    ")\n",
    "iso_forest.fit(X_train_normal)\n",
    "\n",
    "\n",
    "\n",
    "y_pred_iso = iso_forest.predict(X_test_scaled)\n",
    "y_pred_iso_binary = np.where(y_pred_iso == -1 , 1 , 0)\n",
    "\n",
    "y_scores_iso = -iso_forest.score_samples(X_test_scaled)\n",
    "\n",
    "#calculate metrics \n",
    "iso_metrics = {\n",
    "    'precision': precision_score(y_test, y_pred_iso_binary),\n",
    "    'recall': recall_score(y_test, y_pred_iso_binary),\n",
    "    'f1': f1_score(y_test, y_pred_iso_binary),\n",
    "    'roc_auc': roc_auc_score(y_test, y_scores_iso)\n",
    "\n",
    "}\n",
    "\n"
   ]
  },
  {
   "cell_type": "code",
   "execution_count": 71,
   "id": "2a65b05a",
   "metadata": {},
   "outputs": [
    {
     "name": "stdout",
     "output_type": "stream",
     "text": [
      "{'precision': 0.17647058823529413, 'recall': 0.24489795918367346, 'f1': 0.20512820512820512, 'roc_auc': 0.955913608409036}\n"
     ]
    }
   ],
   "source": [
    "print(iso_metrics)"
   ]
  },
  {
   "cell_type": "code",
   "execution_count": 72,
   "id": "bd71e818",
   "metadata": {},
   "outputs": [],
   "source": [
    "# 1. Create a DataFrame for test set analysis\n",
    "test_analysis_df = X_test_scaled.copy()\n",
    "\n",
    "# 2. Add the true labels and binary predictions\n",
    "test_analysis_df['True_Class'] = y_test\n",
    "test_analysis_df['Predicted_Fraud'] = y_pred_iso_binary # 1 for predicted fraud, 0 for predicted normal"
   ]
  },
  {
   "cell_type": "code",
   "execution_count": 73,
   "id": "93ed97e3",
   "metadata": {},
   "outputs": [
    {
     "name": "stdout",
     "output_type": "stream",
     "text": [
      "Total transactions flagged by Isolation Forest: 136\n"
     ]
    }
   ],
   "source": [
    "# Filter for all transactions the model predicted as fraud\n",
    "flagged_transactions = test_analysis_df[test_analysis_df['Predicted_Fraud'] == 1]\n",
    "\n",
    "print(f\"Total transactions flagged by Isolation Forest: {len(flagged_transactions):,}\")"
   ]
  },
  {
   "cell_type": "code",
   "execution_count": 74,
   "id": "7339ee1b",
   "metadata": {},
   "outputs": [
    {
     "name": "stdout",
     "output_type": "stream",
     "text": [
      "True Positives (Actual Fraud): 24\n",
      "False Positives (False Alarms): 112\n"
     ]
    }
   ],
   "source": [
    "# Count the True Positives (TP) and False Positives (FP)\n",
    "TP_transactions = flagged_transactions[flagged_transactions['True_Class'] == 1]\n",
    "FP_transactions = flagged_transactions[flagged_transactions['True_Class'] == 0]\n",
    "\n",
    "print(f\"True Positives (Actual Fraud): {len(TP_transactions)}\")\n",
    "print(f\"False Positives (False Alarms): {len(FP_transactions)}\")"
   ]
  },
  {
   "cell_type": "code",
   "execution_count": 75,
   "id": "874bdf6f",
   "metadata": {},
   "outputs": [
    {
     "name": "stdout",
     "output_type": "stream",
     "text": [
      "\n",
      "Mean Feature Values for True Positives:\n",
      "V11    6.080441\n",
      "V2     5.540434\n",
      "V4     5.050788\n",
      "V21    3.456789\n",
      "V19    2.057692\n",
      "dtype: float64\n",
      "\n",
      "Mean Feature Values for False Positives (False Alarms):\n",
      "Amount        7.828583\n",
      "V4            2.738057\n",
      "V28           2.066464\n",
      "Amount_log    1.775852\n",
      "V6            1.466523\n",
      "dtype: float64\n"
     ]
    }
   ],
   "source": [
    "# Features of True Positives (Correctly flagged fraud)\n",
    "print(\"\\nMean Feature Values for True Positives:\")\n",
    "print(TP_transactions[features_cols].mean().sort_values(ascending=False).head(5))\n",
    "\n",
    "# Features of False Positives (False Alarms)\n",
    "print(\"\\nMean Feature Values for False Positives (False Alarms):\")\n",
    "print(FP_transactions[features_cols].mean().sort_values(ascending=False).head(5))"
   ]
  }
 ],
 "metadata": {
  "kernelspec": {
   "display_name": "myvenv",
   "language": "python",
   "name": "python3"
  },
  "language_info": {
   "codemirror_mode": {
    "name": "ipython",
    "version": 3
   },
   "file_extension": ".py",
   "mimetype": "text/x-python",
   "name": "python",
   "nbconvert_exporter": "python",
   "pygments_lexer": "ipython3",
   "version": "3.12.4"
  }
 },
 "nbformat": 4,
 "nbformat_minor": 5
}
